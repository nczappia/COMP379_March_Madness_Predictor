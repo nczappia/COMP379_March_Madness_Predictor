{
  "nbformat": 4,
  "nbformat_minor": 0,
  "metadata": {
    "colab": {
      "provenance": []
    },
    "kernelspec": {
      "name": "python3",
      "display_name": "Python 3"
    },
    "language_info": {
      "name": "python"
    }
  },
  "cells": [
    {
      "cell_type": "code",
      "source": [
        "!pip install --upgrade tensorflow\n",
        "!pip install --upgrade keras\n"
      ],
      "metadata": {
        "id": "NxRgzoiNUzPG"
      },
      "execution_count": null,
      "outputs": []
    },
    {
      "cell_type": "code",
      "source": [
        "import pandas as pd\n",
        "import sklearn\n",
        "import keras\n",
        "from keras import layers\n",
        "from keras import ops\n",
        "import tensorflow as tf\n",
        "from sklearn.model_selection import train_test_split\n",
        "\n",
        "\n",
        "\n",
        "# Define Sequential model with 3 layers\n",
        "model = keras.Sequential(\n",
        "    [\n",
        "        layers.Dense(128, activation=\"relu\", name=\"layer1\"),\n",
        "        layers.Dense(64, activation=\"relu\", name=\"layer2\"),\n",
        "        # removing additional layers because risk of overfitting was higher with additional layers, and sticking with 128 neurons to learn more complext features from data\n",
        "        layers.Dense(1, name=\"layer3\")\n",
        "    ]\n",
        ")\n",
        "\n",
        "#Load Team Results dataset into a dataframe\n",
        "data = pd.read_csv('Team Results.csv', header=0)\n",
        "\n",
        "print(data.columns)\n",
        "\n",
        "# Clean data\n",
        "columns_to_remove = ['TEAM ID', 'TEAM','WIN%']  # Specify the columns you want to remove\n",
        "X = data.drop(columns=columns_to_remove)\n",
        "y = data[\"WIN%\"]\n",
        "\n",
        "# Data processing,\n",
        "X['F4%']= X['F4%'].apply(lambda x: float(x.rstrip('%')) / 100.0)\n",
        "\n",
        "X['CHAMP%'] = X['CHAMP%'].apply(lambda x: float(x.rstrip('%')) / 100.0)\n",
        "\n",
        "# Train test split\n",
        "# Split the data into training and testing sets\n",
        "random_seed = 0\n",
        "test_size = 0.2\n",
        "X_train, X_test, y_train, y_test = train_test_split(X, y, test_size=test_size, random_state=random_seed)\n",
        "\n",
        "from sklearn.preprocessing import StandardScaler\n",
        "\n",
        "# data standardization\n",
        "scaler = StandardScaler()\n",
        "\n",
        "# norm data\n",
        "X_train = scaler.fit_transform(X_train)\n",
        "X_test = scaler.transform(X_test) # don't use \"fit_transform\" on the test partition\n",
        "\n",
        "# Compile the model\n",
        "model.compile(loss=\"mse\", optimizer=\"adam\")\n",
        "\n",
        "# Train the model\n",
        "model.fit(X_train, y_train, epochs=10)\n",
        "\n",
        "# Call model on a test input after it's been trained\n",
        "y_pred_test = model.predict(X_test)\n",
        "y_pred_train = model.predict(X_train)\n",
        "\n",
        "\n",
        "from sklearn.metrics import mean_squared_error\n",
        "# print(y_pred.shape)\n",
        "# print(y_test.shape)\n",
        "# Calculate MSE\n",
        "mse_test = mean_squared_error(y_test, y_pred_test)\n",
        "mse_test\n",
        "\n",
        "mse_train = mean_squared_error(y_train, y_pred_train)\n",
        "mse_train\n",
        "print(\"Mean Squared Error (MSE Test):\", mse_test)\n",
        "print(\"Mean Squared Error (MSE Train):\", mse_train)\n",
        "\n",
        "from sklearn.metrics import mean_absolute_error, r2_score\n",
        "\n",
        "# Evaluate model\n",
        "print(\"Train MSE: \", mean_squared_error(y_pred_train, y_train))\n",
        "print(\"Test MSE: \", mean_squared_error(y_pred_test, y_test))\n",
        "print(\"Train R^2: \", r2_score(y_pred_train, y_train))\n",
        "print(\"Test R^2: \", r2_score(y_pred_test, y_test))\n",
        "print(\"Train MAE: \", mean_absolute_error(y_pred_train, y_train))\n",
        "print(\"Test MAE: \", mean_absolute_error(y_pred_test, y_test))\n"
      ],
      "metadata": {
        "colab": {
          "base_uri": "https://localhost:8080/"
        },
        "id": "KZlBNfbpQE5Q",
        "outputId": "60df6c2b-170d-4a8d-adee-8d857ae2ca9e"
      },
      "execution_count": 30,
      "outputs": [
        {
          "output_type": "stream",
          "name": "stdout",
          "text": [
            "Index(['TEAM ID', 'TEAM', 'PAKE', 'PAKE RANK', 'PASE', 'PASE RANK', 'GAMES',\n",
            "       'W', 'L', 'WIN%', 'R64', 'R32', 'S16', 'E8', 'F4', 'F2', 'CHAMP',\n",
            "       'TOP2', 'F4%', 'CHAMP%'],\n",
            "      dtype='object')\n",
            "Epoch 1/10\n",
            "\u001b[1m6/6\u001b[0m \u001b[32m━━━━━━━━━━━━━━━━━━━━\u001b[0m\u001b[37m\u001b[0m \u001b[1m1s\u001b[0m 2ms/step - loss: 0.1629  \n",
            "Epoch 2/10\n",
            "\u001b[1m6/6\u001b[0m \u001b[32m━━━━━━━━━━━━━━━━━━━━\u001b[0m\u001b[37m\u001b[0m \u001b[1m0s\u001b[0m 2ms/step - loss: 0.0299 \n",
            "Epoch 3/10\n",
            "\u001b[1m6/6\u001b[0m \u001b[32m━━━━━━━━━━━━━━━━━━━━\u001b[0m\u001b[37m\u001b[0m \u001b[1m0s\u001b[0m 2ms/step - loss: 0.0305 \n",
            "Epoch 4/10\n",
            "\u001b[1m6/6\u001b[0m \u001b[32m━━━━━━━━━━━━━━━━━━━━\u001b[0m\u001b[37m\u001b[0m \u001b[1m0s\u001b[0m 3ms/step - loss: 0.0163 \n",
            "Epoch 5/10\n",
            "\u001b[1m6/6\u001b[0m \u001b[32m━━━━━━━━━━━━━━━━━━━━\u001b[0m\u001b[37m\u001b[0m \u001b[1m0s\u001b[0m 2ms/step - loss: 0.0142 \n",
            "Epoch 6/10\n",
            "\u001b[1m6/6\u001b[0m \u001b[32m━━━━━━━━━━━━━━━━━━━━\u001b[0m\u001b[37m\u001b[0m \u001b[1m0s\u001b[0m 2ms/step - loss: 0.0086 \n",
            "Epoch 7/10\n",
            "\u001b[1m6/6\u001b[0m \u001b[32m━━━━━━━━━━━━━━━━━━━━\u001b[0m\u001b[37m\u001b[0m \u001b[1m0s\u001b[0m 2ms/step - loss: 0.0083 \n",
            "Epoch 8/10\n",
            "\u001b[1m6/6\u001b[0m \u001b[32m━━━━━━━━━━━━━━━━━━━━\u001b[0m\u001b[37m\u001b[0m \u001b[1m0s\u001b[0m 2ms/step - loss: 0.0078 \n",
            "Epoch 9/10\n",
            "\u001b[1m6/6\u001b[0m \u001b[32m━━━━━━━━━━━━━━━━━━━━\u001b[0m\u001b[37m\u001b[0m \u001b[1m0s\u001b[0m 2ms/step - loss: 0.0055 \n",
            "Epoch 10/10\n",
            "\u001b[1m6/6\u001b[0m \u001b[32m━━━━━━━━━━━━━━━━━━━━\u001b[0m\u001b[37m\u001b[0m \u001b[1m0s\u001b[0m 2ms/step - loss: 0.0044 \n",
            "\u001b[1m2/2\u001b[0m \u001b[32m━━━━━━━━━━━━━━━━━━━━\u001b[0m\u001b[37m\u001b[0m \u001b[1m0s\u001b[0m 28ms/step\n",
            "\u001b[1m6/6\u001b[0m \u001b[32m━━━━━━━━━━━━━━━━━━━━\u001b[0m\u001b[37m\u001b[0m \u001b[1m0s\u001b[0m 2ms/step \n",
            "Mean Squared Error (MSE Test): 0.013755439869191732\n",
            "Mean Squared Error (MSE Train): 0.004538761607224226\n",
            "Train MSE:  0.004538761607224226\n",
            "Test MSE:  0.013755439869191732\n",
            "Train R^2:  0.9260638154232143\n",
            "Test R^2:  0.8426907818041205\n",
            "Train MAE:  0.04820400144797849\n",
            "Test MAE:  0.08265574195235968\n"
          ]
        }
      ]
    }
  ]
}