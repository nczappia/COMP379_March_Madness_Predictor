{
  "nbformat": 4,
  "nbformat_minor": 0,
  "metadata": {
    "colab": {
      "provenance": []
    },
    "kernelspec": {
      "name": "python3",
      "display_name": "Python 3"
    },
    "language_info": {
      "name": "python"
    }
  },
  "cells": [
    {
      "cell_type": "code",
      "source": [
        "# install required materials\n",
        "!pip install --upgrade tensorflow\n",
        "!pip install --upgrade keras\n"
      ],
      "metadata": {
        "id": "NxRgzoiNUzPG"
      },
      "execution_count": null,
      "outputs": []
    },
    {
      "cell_type": "code",
      "source": [
        "# importing statements\n",
        "import pandas as pd\n",
        "import sklearn\n",
        "import keras\n",
        "from keras import layers\n",
        "from keras import ops\n",
        "import tensorflow as tf\n",
        "from sklearn.model_selection import train_test_split\n",
        "\n",
        "\n",
        "\n",
        "# define Sequential model with 3 layers\n",
        "model = keras.Sequential(\n",
        "    [\n",
        "        layers.Dense(245, activation=\"relu\", name=\"layer1\"),\n",
        "        layers.Dense(64, activation=\"relu\", name=\"layer2\"),\n",
        "        # removing additional layers because risk of overfitting was higher with additional layers, and sticking with 128 neurons to learn more complext features from data\n",
        "        layers.Dense(1, name=\"layer3\"),\n",
        "\n",
        "\n",
        "    ]\n",
        ")\n",
        "\n",
        "# load Team Results dataset into a dataframe\n",
        "data = pd.read_csv('Team Results.csv', header=0)\n",
        "\n",
        "print(data.columns)\n",
        "\n",
        "# clean data\n",
        "columns_to_remove = ['TEAM ID', 'TEAM','WIN%']  # Specify the columns you want to remove\n",
        "X = data.drop(columns=columns_to_remove)\n",
        "y = data[\"WIN%\"]\n",
        "\n",
        "# data processing, convert % string values to float values\n",
        "X['F4%']= X['F4%'].apply(lambda x: float(x.rstrip('%')) / 100.0)\n",
        "\n",
        "X['CHAMP%'] = X['CHAMP%'].apply(lambda x: float(x.rstrip('%')) / 100.0)\n",
        "\n",
        "# Train test split\n",
        "\n",
        "# split the data into training and testing sets\n",
        "random_seed = 0\n",
        "test_size = 0.2\n",
        "X_train, X_test, y_train, y_test = train_test_split(X, y, test_size=test_size, random_state=random_seed)\n",
        "\n",
        "from sklearn.preprocessing import StandardScaler\n",
        "\n",
        "# data standardization\n",
        "scaler = StandardScaler()\n",
        "\n",
        "# norm data\n",
        "X_train = scaler.fit_transform(X_train)\n",
        "X_test = scaler.transform(X_test) # don't use \"fit_transform\" on the test partition\n",
        "\n",
        "# compile model\n",
        "model.compile(loss=\"mse\", optimizer=\"adam\")\n",
        "\n",
        "# train model\n",
        "model.fit(X_train, y_train, epochs=10)\n",
        "\n",
        "# call model for y_pred results\n",
        "y_pred_test = model.predict(X_test)\n",
        "y_pred_train = model.predict(X_train)\n",
        "\n",
        "# print(y_pred.shape)\n",
        "# print(y_test.shape)\n",
        "\n",
        "from sklearn.metrics import mean_absolute_error, r2_score\n",
        "\n",
        "# evaluate model\n",
        "print(\"Train MSE: \", mean_squared_error(y_pred_train, y_train))\n",
        "print(\"Test MSE: \", mean_squared_error(y_pred_test, y_test))\n",
        "print(\"Train R^2: \", r2_score(y_pred_train, y_train))\n",
        "print(\"Test R^2: \", r2_score(y_pred_test, y_test))\n",
        "print(\"Train MAE: \", mean_absolute_error(y_pred_train, y_train))\n",
        "print(\"Test MAE: \", mean_absolute_error(y_pred_test, y_test))\n"
      ],
      "metadata": {
        "colab": {
          "base_uri": "https://localhost:8080/"
        },
        "id": "KZlBNfbpQE5Q",
        "outputId": "36fbf0a4-9559-4af9-a65d-6841c518f68a"
      },
      "execution_count": 23,
      "outputs": [
        {
          "output_type": "stream",
          "name": "stdout",
          "text": [
            "Index(['TEAM ID', 'TEAM', 'PAKE', 'PAKE RANK', 'PASE', 'PASE RANK', 'GAMES',\n",
            "       'W', 'L', 'WIN%', 'R64', 'R32', 'S16', 'E8', 'F4', 'F2', 'CHAMP',\n",
            "       'TOP2', 'F4%', 'CHAMP%'],\n",
            "      dtype='object')\n",
            "Epoch 1/10\n",
            "\u001b[1m6/6\u001b[0m \u001b[32m━━━━━━━━━━━━━━━━━━━━\u001b[0m\u001b[37m\u001b[0m \u001b[1m1s\u001b[0m 2ms/step - loss: 0.1654\n",
            "Epoch 2/10\n",
            "\u001b[1m6/6\u001b[0m \u001b[32m━━━━━━━━━━━━━━━━━━━━\u001b[0m\u001b[37m\u001b[0m \u001b[1m0s\u001b[0m 2ms/step - loss: 0.1001 \n",
            "Epoch 3/10\n",
            "\u001b[1m6/6\u001b[0m \u001b[32m━━━━━━━━━━━━━━━━━━━━\u001b[0m\u001b[37m\u001b[0m \u001b[1m0s\u001b[0m 2ms/step - loss: 0.0303 \n",
            "Epoch 4/10\n",
            "\u001b[1m6/6\u001b[0m \u001b[32m━━━━━━━━━━━━━━━━━━━━\u001b[0m\u001b[37m\u001b[0m \u001b[1m0s\u001b[0m 2ms/step - loss: 0.0445 \n",
            "Epoch 5/10\n",
            "\u001b[1m6/6\u001b[0m \u001b[32m━━━━━━━━━━━━━━━━━━━━\u001b[0m\u001b[37m\u001b[0m \u001b[1m0s\u001b[0m 2ms/step - loss: 0.0183 \n",
            "Epoch 6/10\n",
            "\u001b[1m6/6\u001b[0m \u001b[32m━━━━━━━━━━━━━━━━━━━━\u001b[0m\u001b[37m\u001b[0m \u001b[1m0s\u001b[0m 3ms/step - loss: 0.0107 \n",
            "Epoch 7/10\n",
            "\u001b[1m6/6\u001b[0m \u001b[32m━━━━━━━━━━━━━━━━━━━━\u001b[0m\u001b[37m\u001b[0m \u001b[1m0s\u001b[0m 3ms/step - loss: 0.0103 \n",
            "Epoch 8/10\n",
            "\u001b[1m6/6\u001b[0m \u001b[32m━━━━━━━━━━━━━━━━━━━━\u001b[0m\u001b[37m\u001b[0m \u001b[1m0s\u001b[0m 2ms/step - loss: 0.0082 \n",
            "Epoch 9/10\n",
            "\u001b[1m6/6\u001b[0m \u001b[32m━━━━━━━━━━━━━━━━━━━━\u001b[0m\u001b[37m\u001b[0m \u001b[1m0s\u001b[0m 2ms/step - loss: 0.0063 \n",
            "Epoch 10/10\n",
            "\u001b[1m6/6\u001b[0m \u001b[32m━━━━━━━━━━━━━━━━━━━━\u001b[0m\u001b[37m\u001b[0m \u001b[1m0s\u001b[0m 2ms/step - loss: 0.0054 \n",
            "\u001b[1m2/2\u001b[0m \u001b[32m━━━━━━━━━━━━━━━━━━━━\u001b[0m\u001b[37m\u001b[0m \u001b[1m0s\u001b[0m 31ms/step\n",
            "\u001b[1m6/6\u001b[0m \u001b[32m━━━━━━━━━━━━━━━━━━━━\u001b[0m\u001b[37m\u001b[0m \u001b[1m0s\u001b[0m 1ms/step \n",
            "Train MSE:  0.004650577991182201\n",
            "Test MSE:  0.009215902974294038\n",
            "Train R^2:  0.912418176436343\n",
            "Test R^2:  0.8604091569472837\n",
            "Train MAE:  0.04788041231369084\n",
            "Test MAE:  0.06552074742953605\n"
          ]
        }
      ]
    },
    {
      "cell_type": "code",
      "source": [
        "# extract the embeddings of each TEAM\n",
        "team_embeddings = model.get_layer(\"layer2\").get_weights()[0]\n",
        "\n",
        "# create a TSV file of these embeddings\n",
        "with open(\"team_embeddings.tsv\", \"w\") as f:\n",
        "    for team_name, team_embedding in zip(data[\"TEAM\"], team_embeddings):\n",
        "        embedding_str = \"\\t\".join([str(x) for x in team_embedding])\n",
        "        f.write(f\"{embedding_str}\\n\")\n",
        "\n",
        "with open(\"team_metadata.tsv\", \"w\") as f:\n",
        "    f.write(\"TEAM\\tPAKE\\tPASE\\tWIN%\\n\")\n",
        "    # write the metadata with corresponding values of TEAM, PAKE, PASE, and WIN%\n",
        "    for i in range(len(data)):\n",
        "        team_name = data.iloc[i][\"TEAM\"]\n",
        "        pake_value = data.iloc[i][\"PAKE\"]\n",
        "        pase_value = data.iloc[i][\"PASE\"]\n",
        "        win_percentage = data.iloc[i][\"WIN%\"]\n",
        "        f.write(f\"{team_name}\\t{pake_value}\\t{pase_value}\\t{win_percentage}\\n\")\n"
      ],
      "metadata": {
        "id": "z92t36z1QdTU"
      },
      "execution_count": 29,
      "outputs": []
    },
    {
      "cell_type": "code",
      "source": [
        "team_embeddings.shape"
      ],
      "metadata": {
        "colab": {
          "base_uri": "https://localhost:8080/"
        },
        "id": "fQofrBjrVRuw",
        "outputId": "69de0dde-ca62-40f3-a775-84a6ffbb1904"
      },
      "execution_count": 25,
      "outputs": [
        {
          "output_type": "execute_result",
          "data": {
            "text/plain": [
              "(245, 64)"
            ]
          },
          "metadata": {},
          "execution_count": 25
        }
      ]
    }
  ]
}